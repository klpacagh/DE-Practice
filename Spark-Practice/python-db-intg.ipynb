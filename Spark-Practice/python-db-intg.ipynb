{
 "cells": [
  {
   "cell_type": "code",
   "execution_count": 5,
   "metadata": {},
   "outputs": [],
   "source": [
    "from pymysql import *\n",
    "from sqlalchemy import *"
   ]
  },
  {
   "cell_type": "code",
   "execution_count": 8,
   "metadata": {},
   "outputs": [],
   "source": [
    "# Using SQLALCHEMY\n",
    "db_data = 'mysql+pymysql://' + 'admin' + ':' + 'Password1!' + '@' + 'my-db.co9whbkecuet.us-east-1.rds.amazonaws.com' + ':3306/' \\\n",
    "       + 'SALES_DB' + '?charset=utf8mb4'\n",
    "\n",
    "engine = create_engine(db_data)\n",
    "#engine.execute(\"insert into SALES_SUM(SALES_TOTAL) values(4212.0)\")\n",
    "engine.execute(\"delete from SALES\")\n",
    "engine.execute(\"delete from SALES_SUM\")\n",
    "result = engine.execute(\"select * from SALES_SUM\")\n",
    "\n",
    "for row in result:\n",
    "    print(row)\n",
    "\n",
    "engine.dispose()"
   ]
  },
  {
   "cell_type": "code",
   "execution_count": null,
   "metadata": {},
   "outputs": [],
   "source": [
    "#Using PYMYSQL\n",
    "# Connect to RDS\n",
    "endpoint = 'my-db.co9whbkecuet.us-east-1.rds.amazonaws.com'\n",
    "username = 'admin'\n",
    "password = 'Password1!'\n",
    "database = 'SALES_DB'\n",
    "connection = pymysql.connect(host=endpoint, user=username, passwd=password, db=database)"
   ]
  },
  {
   "cell_type": "code",
   "execution_count": null,
   "metadata": {},
   "outputs": [],
   "source": [
    "# setup env - create tables\n",
    "cur = connection.cursor()\n",
    "\n",
    "# Use all the SQL you like\n",
    "#cur.execute(\"CREATE DATABASE IF NOT EXISTS SALES_DB\")\n",
    "#cur.execute(\"SHOW DATABASES\")\n",
    "#cur.execute(\"USE SALES_DB\")\n",
    "cur.execute(\"SHOW TABLES\")\n",
    "cur.execute(\" \\\n",
    "                CREATE TABLE IF NOT EXISTS SALES ( \\\n",
    "                ORDER_ID INT(12) NOT NULL, \\\n",
    "                QTY_ORDERED INT(100), \\\n",
    "                PRICE_PER DECIMAL(6,2), \\\n",
    "                SALES DECIMAL(12,2), \\\n",
    "                ORDER_DATE DATE \\\n",
    "                ); \\\n",
    "            \")\n",
    "cur.execute(\"DESCRIBE SALES\")    \n",
    "\n",
    "cur.execute(\"CREATE TABLE IF NOT EXISTS SALES_SUM ( \\\n",
    "    SALES_TOTAL_ID INT AUTO_INCREMENT, \\\n",
    "    SALES_TOTAL DECIMAL(10,2), \\\n",
    "    PRIMARY KEY (SALES_TOTAL_ID) \\\n",
    "    );\")\n",
    "\n",
    "cur.execute(\"insert into SALES_SUM (SALES_TOTAL) values (4211.20);\")\n",
    "\n",
    "cur.execute(\"select * from SALES_SUM;\")\n",
    "\n",
    "connection.commit()\n",
    "# cur.execute(\"DELETE FROM SALES_SUM\")\n",
    "# connection.commit()\n",
    "# print all the first cell of all the rows\n",
    "for row in cur.fetchall():\n",
    "    print(row)\n",
    "\n",
    "connection.close()"
   ]
  }
 ],
 "metadata": {
  "kernelspec": {
   "display_name": "Python 3",
   "language": "python",
   "name": "python3"
  },
  "language_info": {
   "codemirror_mode": {
    "name": "ipython",
    "version": 3
   },
   "file_extension": ".py",
   "mimetype": "text/x-python",
   "name": "python",
   "nbconvert_exporter": "python",
   "pygments_lexer": "ipython3",
   "version": "3.8.5"
  }
 },
 "nbformat": 4,
 "nbformat_minor": 4
}
