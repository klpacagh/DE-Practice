{
 "cells": [
  {
   "cell_type": "code",
   "execution_count": 1,
   "id": "ef846df3-726b-4fcd-a816-8e4c1649c763",
   "metadata": {},
   "outputs": [],
   "source": [
    "import pytest"
   ]
  },
  {
   "cell_type": "code",
   "execution_count": 14,
   "id": "12446a01-29aa-49ad-8404-f7de7dd9a84d",
   "metadata": {},
   "outputs": [],
   "source": [
    "@pytest.mark.one\n",
    "def test_method1():\n",
    "    x = 5\n",
    "    y = 10\n",
    "    assert x == y"
   ]
  },
  {
   "cell_type": "code",
   "execution_count": 15,
   "id": "449993fd-0a6a-43a8-a6ff-fc4f54353f32",
   "metadata": {},
   "outputs": [],
   "source": [
    "@pytest.mark.two\n",
    "def test_method2():\n",
    "    a = 15\n",
    "    b = 20\n",
    "    assert a + 2 == b"
   ]
  },
  {
   "cell_type": "code",
   "execution_count": 16,
   "id": "432f0ad3-2780-4737-84d0-45245e82f909",
   "metadata": {},
   "outputs": [],
   "source": [
    "#test_method1()"
   ]
  },
  {
   "cell_type": "code",
   "execution_count": null,
   "id": "5c31f7b1-647c-4a68-ba1b-dd245cd0dc30",
   "metadata": {},
   "outputs": [],
   "source": []
  }
 ],
 "metadata": {
  "kernelspec": {
   "display_name": "Python 3",
   "language": "python",
   "name": "python3"
  },
  "language_info": {
   "codemirror_mode": {
    "name": "ipython",
    "version": 3
   },
   "file_extension": ".py",
   "mimetype": "text/x-python",
   "name": "python",
   "nbconvert_exporter": "python",
   "pygments_lexer": "ipython3",
   "version": "3.8.5"
  }
 },
 "nbformat": 4,
 "nbformat_minor": 5
}
