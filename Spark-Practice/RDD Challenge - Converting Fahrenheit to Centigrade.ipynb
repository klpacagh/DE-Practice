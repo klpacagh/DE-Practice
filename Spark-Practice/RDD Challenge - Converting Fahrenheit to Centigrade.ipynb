{
 "cells": [
  {
   "cell_type": "markdown",
   "metadata": {},
   "source": [
    "# Convert Fahrenheit to Degrees Centigrade"
   ]
  },
  {
   "cell_type": "code",
   "execution_count": 1,
   "metadata": {},
   "outputs": [],
   "source": [
    "from pyspark.sql import SparkSession\n",
    "spark = (SparkSession.builder.appName(\"RDDChallenge\").getOrCreate())"
   ]
  },
  {
   "cell_type": "code",
   "execution_count": 3,
   "metadata": {},
   "outputs": [
    {
     "data": {
      "text/plain": [
       "[59, 57.2, 53.6, 55.4, 51.8, 53.6, 55.4]"
      ]
     },
     "execution_count": 3,
     "metadata": {},
     "output_type": "execute_result"
    }
   ],
   "source": [
    "# create list and load into rdd\n",
    "temp_list = [59, 57.2, 53.6, 55.4, 51.8, 53.6, 55.4]\n",
    "temp_rdd = spark.sparkContext.parallelize(temp_list)\n",
    "temp_rdd.collect()"
   ]
  },
  {
   "cell_type": "code",
   "execution_count": 4,
   "metadata": {},
   "outputs": [],
   "source": [
    "def fahrenheitToCentigrade(temperature):\n",
    "    centigrade = (temperature - 32) * 5/9\n",
    "    return centigrade"
   ]
  },
  {
   "cell_type": "code",
   "execution_count": 7,
   "metadata": {},
   "outputs": [
    {
     "data": {
      "text/plain": [
       "[15.0, 14.000000000000002, 12.0, 13.0, 10.999999999999998, 12.0, 13.0]"
      ]
     },
     "execution_count": 7,
     "metadata": {},
     "output_type": "execute_result"
    }
   ],
   "source": [
    "# pass in the function for the mapping\n",
    "tempFahToCentRDD = temp_rdd.map(fahrenheitToCentigrade)\n",
    "tempFahToCentRDD.collect()"
   ]
  },
  {
   "cell_type": "code",
   "execution_count": 8,
   "metadata": {},
   "outputs": [
    {
     "data": {
      "text/plain": [
       "[15.0, 14.000000000000002, 13.0, 13.0]"
      ]
     },
     "execution_count": 8,
     "metadata": {},
     "output_type": "execute_result"
    }
   ],
   "source": [
    "# filter temperatures >= 13\n",
    "filterTempRDD = tempFahToCentRDD.filter(lambda x: x >= 13)\n",
    "filterTempRDD.collect()"
   ]
  },
  {
   "cell_type": "markdown",
   "metadata": {},
   "source": [
    "# XYZ Research"
   ]
  },
  {
   "cell_type": "code",
   "execution_count": 9,
   "metadata": {},
   "outputs": [],
   "source": [
    "data2001List = ['RIN1', 'RIN2', 'RIN3', 'RIN4', 'RIN5', 'RIN6', 'RIN7']\n",
    "data2002List = ['RIN3', 'RIN4', 'RIN7', 'RIN8', 'RIN9']\n",
    "data2003List = ['RIN4', 'RIN8', 'RIN10', 'RIN11', 'RIN12']"
   ]
  },
  {
   "cell_type": "code",
   "execution_count": 10,
   "metadata": {},
   "outputs": [],
   "source": [
    "data2001RDD = spark.sparkContext.parallelize(data2001List)\n",
    "data2002RDD = spark.sparkContext.parallelize(data2002List)\n",
    "data2003RDD = spark.sparkContext.parallelize(data2003List)"
   ]
  },
  {
   "cell_type": "code",
   "execution_count": 22,
   "metadata": {},
   "outputs": [
    {
     "name": "stdout",
     "output_type": "stream",
     "text": [
      "['RIN1', 'RIN11', 'RIN7', 'RIN9', 'RIN12', 'RIN3', 'RIN4', 'RIN10', 'RIN2', 'RIN5', 'RIN8', 'RIN6']\n",
      "Research projects initiated over 3 years:  12\n"
     ]
    }
   ],
   "source": [
    "# How many research projects were initiated within the 3 years?\n",
    "# Use a Union Transformation\n",
    "# Using distinct to remove duplicates\n",
    "unionAllRDD = data2001RDD.union(data2002RDD).union(data2003RDD).distinct()\n",
    "print(unionAllRDD.collect())\n",
    "print(\"Research projects initiated over 3 years: \", unionAllRDD.count())"
   ]
  },
  {
   "cell_type": "code",
   "execution_count": 24,
   "metadata": {},
   "outputs": [
    {
     "name": "stdout",
     "output_type": "stream",
     "text": [
      "Research projects completed in first year: \n",
      " ['RIN2', 'RIN5', 'RIN6', 'RIN1']\n"
     ]
    }
   ],
   "source": [
    "# How many projects were completed within the first year\n",
    "# subtract set B (2002) from set A(2001) to show us the answer\n",
    "firstYearCompletionRDD = data2001RDD.subtract(data2002RDD)\n",
    "print(\"Research projects completed in first year: \\n\", firstYearCompletionRDD.collect())"
   ]
  },
  {
   "cell_type": "code",
   "execution_count": 25,
   "metadata": {},
   "outputs": [
    {
     "data": {
      "text/plain": [
       "['RIN1',\n",
       " 'RIN2',\n",
       " 'RIN3',\n",
       " 'RIN4',\n",
       " 'RIN5',\n",
       " 'RIN6',\n",
       " 'RIN7',\n",
       " 'RIN3',\n",
       " 'RIN4',\n",
       " 'RIN7',\n",
       " 'RIN8',\n",
       " 'RIN9']"
      ]
     },
     "execution_count": 25,
     "metadata": {},
     "output_type": "execute_result"
    }
   ],
   "source": [
    "# How many projects were started within the first two years\n",
    "# Union first two years and subtract the thir\n",
    "unionTwoYearsRDD = data2001RDD.union(data2002RDD)\n",
    "unionTwoYearsRDD.collect()"
   ]
  },
  {
   "cell_type": "code",
   "execution_count": 26,
   "metadata": {},
   "outputs": [
    {
     "data": {
      "text/plain": [
       "['RIN1', 'RIN7', 'RIN9', 'RIN3', 'RIN2', 'RIN5', 'RIN6']"
      ]
     },
     "execution_count": 26,
     "metadata": {},
     "output_type": "execute_result"
    }
   ],
   "source": [
    "unionTwoYearsRDD.subtract(data2003RDD).distinct().collect()"
   ]
  },
  {
   "cell_type": "code",
   "execution_count": null,
   "metadata": {},
   "outputs": [],
   "source": []
  }
 ],
 "metadata": {
  "kernelspec": {
   "display_name": "Python 3",
   "language": "python",
   "name": "python3"
  },
  "language_info": {
   "codemirror_mode": {
    "name": "ipython",
    "version": 3
   },
   "file_extension": ".py",
   "mimetype": "text/x-python",
   "name": "python",
   "nbconvert_exporter": "python",
   "pygments_lexer": "ipython3",
   "version": "3.8.5"
  }
 },
 "nbformat": 4,
 "nbformat_minor": 4
}
