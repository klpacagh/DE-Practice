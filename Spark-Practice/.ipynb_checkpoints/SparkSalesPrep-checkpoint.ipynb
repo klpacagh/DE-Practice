{
 "cells": [
  {
   "cell_type": "code",
   "execution_count": 174,
   "metadata": {},
   "outputs": [],
   "source": [
    "from pyspark.sql import SparkSession\n",
    "from pyspark.sql.types import StructType, StructField, StringType, IntegerType"
   ]
  },
  {
   "cell_type": "code",
   "execution_count": 175,
   "metadata": {},
   "outputs": [],
   "source": [
    "spark = (SparkSession.builder.appName(\"SalesDataPrep\").getOrCreate())"
   ]
  },
  {
   "cell_type": "markdown",
   "metadata": {},
   "source": [
    "# Data Preparation"
   ]
  },
  {
   "cell_type": "code",
   "execution_count": 176,
   "metadata": {},
   "outputs": [],
   "source": [
    "# StructType is a collection of StructFields that define the column name, column data type\n",
    "# and a boolean value to specify if the field can be nullable or not\n",
    "\n",
    "schema = StructType([\n",
    "    StructField(\"Order ID\", StringType(), True),\n",
    "    StructField(\"Product\", StringType(), True),\n",
    "    StructField(\"Quantity Ordered\", StringType(), True),\n",
    "    StructField(\"Price Each\", StringType(), True),\n",
    "    StructField(\"Order Date\", StringType(), True),\n",
    "    StructField(\"Purchase Address\", StringType(), True)\n",
    "])"
   ]
  },
  {
   "cell_type": "code",
   "execution_count": 177,
   "metadata": {},
   "outputs": [],
   "source": [
    "file_path = \"./data/salesdata\"\n",
    "sales_df = (spark.read.format(\"csv\")\n",
    "          .option(\"header\", True)\n",
    "          .schema(schema)\n",
    "          .load(file_path))"
   ]
  },
  {
   "cell_type": "code",
   "execution_count": 178,
   "metadata": {},
   "outputs": [
    {
     "name": "stdout",
     "output_type": "stream",
     "text": [
      "+--------+--------------------+----------------+----------+--------------+--------------------+\n",
      "|Order ID|             Product|Quantity Ordered|Price Each|    Order Date|    Purchase Address|\n",
      "+--------+--------------------+----------------+----------+--------------+--------------------+\n",
      "|  295665|  Macbook Pro Laptop|               1|      1700|12/30/19 00:01|136 Church St, Ne...|\n",
      "|  295666|  LG Washing Machine|               1|     600.0|12/29/19 07:03|562 2nd St, New Y...|\n",
      "|  295667|USB-C Charging Cable|               1|     11.95|12/12/19 18:21|277 Main St, New ...|\n",
      "|  295668|    27in FHD Monitor|               1|    149.99|12/22/19 15:13|410 6th St, San F...|\n",
      "|  295669|USB-C Charging Cable|               1|     11.95|12/18/19 12:38|43 Hill St, Atlan...|\n",
      "|  295670|AA Batteries (4-p...|               1|      3.84|12/31/19 22:58|200 Jefferson St,...|\n",
      "|  295671|USB-C Charging Cable|               1|     11.95|12/16/19 15:10|928 12th St, Port...|\n",
      "|  295672|USB-C Charging Cable|               2|     11.95|12/13/19 09:29|813 Hickory St, D...|\n",
      "|  295673|Bose SoundSport H...|               1|     99.99|12/15/19 23:26|718 Wilson St, Da...|\n",
      "|  295674|AAA Batteries (4-...|               4|      2.99|12/28/19 11:51|77 7th St, Dallas...|\n",
      "+--------+--------------------+----------------+----------+--------------+--------------------+\n",
      "only showing top 10 rows\n",
      "\n"
     ]
    }
   ],
   "source": [
    "sales_df.show(10)"
   ]
  },
  {
   "cell_type": "code",
   "execution_count": 179,
   "metadata": {},
   "outputs": [
    {
     "name": "stdout",
     "output_type": "stream",
     "text": [
      "root\n",
      " |-- Order ID: string (nullable = true)\n",
      " |-- Product: string (nullable = true)\n",
      " |-- Quantity Ordered: string (nullable = true)\n",
      " |-- Price Each: string (nullable = true)\n",
      " |-- Order Date: string (nullable = true)\n",
      " |-- Purchase Address: string (nullable = true)\n",
      "\n"
     ]
    }
   ],
   "source": [
    "sales_df.printSchema()"
   ]
  },
  {
   "cell_type": "markdown",
   "metadata": {},
   "source": [
    "## Data Prep and Cleansing - Challenge Part 2"
   ]
  },
  {
   "cell_type": "markdown",
   "metadata": {},
   "source": [
    "### Remove Null Rows and Bad Records"
   ]
  },
  {
   "cell_type": "code",
   "execution_count": 180,
   "metadata": {},
   "outputs": [],
   "source": [
    "from pyspark.sql.functions import col"
   ]
  },
  {
   "cell_type": "code",
   "execution_count": 181,
   "metadata": {},
   "outputs": [
    {
     "name": "stdout",
     "output_type": "stream",
     "text": [
      "+--------+-------+----------------+----------+----------+----------------+\n",
      "|Order ID|Product|Quantity Ordered|Price Each|Order Date|Purchase Address|\n",
      "+--------+-------+----------------+----------+----------+----------------+\n",
      "|    null|   null|            null|      null|      null|            null|\n",
      "|    null|   null|            null|      null|      null|            null|\n",
      "|    null|   null|            null|      null|      null|            null|\n",
      "|    null|   null|            null|      null|      null|            null|\n",
      "|    null|   null|            null|      null|      null|            null|\n",
      "|    null|   null|            null|      null|      null|            null|\n",
      "|    null|   null|            null|      null|      null|            null|\n",
      "|    null|   null|            null|      null|      null|            null|\n",
      "|    null|   null|            null|      null|      null|            null|\n",
      "|    null|   null|            null|      null|      null|            null|\n",
      "+--------+-------+----------------+----------+----------+----------------+\n",
      "only showing top 10 rows\n",
      "\n"
     ]
    }
   ],
   "source": [
    "sales_df.filter(col(\"Order ID\").isNull() == True).show(10)"
   ]
  },
  {
   "cell_type": "code",
   "execution_count": 182,
   "metadata": {},
   "outputs": [
    {
     "name": "stdout",
     "output_type": "stream",
     "text": [
      "+--------+-------+----------------+----------+----------+----------------+\n",
      "|Order ID|Product|Quantity Ordered|Price Each|Order Date|Purchase Address|\n",
      "+--------+-------+----------------+----------+----------+----------------+\n",
      "+--------+-------+----------------+----------+----------+----------------+\n",
      "\n"
     ]
    }
   ],
   "source": [
    "sales_df = sales_df.na.drop(\"all\")\n",
    "sales_df.filter(col(\"Order ID\").isNull() == True).show(10)"
   ]
  },
  {
   "cell_type": "code",
   "execution_count": 183,
   "metadata": {},
   "outputs": [
    {
     "name": "stdout",
     "output_type": "stream",
     "text": [
      "+-------+-----------------+------------+-------------------+------------------+--------------+--------------------+\n",
      "|summary|         Order ID|     Product|   Quantity Ordered|        Price Each|    Order Date|    Purchase Address|\n",
      "+-------+-----------------+------------+-------------------+------------------+--------------+--------------------+\n",
      "|  count|           186305|      186305|             186305|            186305|        186305|              186305|\n",
      "|   mean|230417.5693788653|        null| 1.1243828986286637|184.39973476743927|          null|                null|\n",
      "| stddev|51512.73710999594|        null|0.44279262402866965|332.73132988434367|          null|                null|\n",
      "|    min|           141234|20in Monitor|                  1|            109.99|01/01/19 03:07|1 11th St, Atlant...|\n",
      "|    max|         Order ID|      iPhone|   Quantity Ordered|        Price Each|    Order Date|    Purchase Address|\n",
      "+-------+-----------------+------------+-------------------+------------------+--------------+--------------------+\n",
      "\n"
     ]
    }
   ],
   "source": [
    "sales_df.describe(\"Order ID\", \"Product\",\"Quantity Ordered\",\"Price Each\",\"Order Date\",\"Purchase Address\").show()"
   ]
  },
  {
   "cell_type": "code",
   "execution_count": 184,
   "metadata": {},
   "outputs": [
    {
     "name": "stdout",
     "output_type": "stream",
     "text": [
      "+--------+-------+----------------+----------+----------+----------------+\n",
      "|Order ID|Product|Quantity Ordered|Price Each|Order Date|Purchase Address|\n",
      "+--------+-------+----------------+----------+----------+----------------+\n",
      "|Order ID|Product|Quantity Ordered|Price Each|Order Date|Purchase Address|\n",
      "|Order ID|Product|Quantity Ordered|Price Each|Order Date|Purchase Address|\n",
      "|Order ID|Product|Quantity Ordered|Price Each|Order Date|Purchase Address|\n",
      "|Order ID|Product|Quantity Ordered|Price Each|Order Date|Purchase Address|\n",
      "|Order ID|Product|Quantity Ordered|Price Each|Order Date|Purchase Address|\n",
      "|Order ID|Product|Quantity Ordered|Price Each|Order Date|Purchase Address|\n",
      "|Order ID|Product|Quantity Ordered|Price Each|Order Date|Purchase Address|\n",
      "|Order ID|Product|Quantity Ordered|Price Each|Order Date|Purchase Address|\n",
      "|Order ID|Product|Quantity Ordered|Price Each|Order Date|Purchase Address|\n",
      "|Order ID|Product|Quantity Ordered|Price Each|Order Date|Purchase Address|\n",
      "+--------+-------+----------------+----------+----------+----------------+\n",
      "only showing top 10 rows\n",
      "\n"
     ]
    }
   ],
   "source": [
    "# removing deduplicated data\n",
    "sales_df.filter(col(\"Order ID\") == \"Order ID\").show(10)"
   ]
  },
  {
   "cell_type": "code",
   "execution_count": 185,
   "metadata": {},
   "outputs": [],
   "source": [
    "sales_temp_df = sales_df.distinct()"
   ]
  },
  {
   "cell_type": "code",
   "execution_count": 186,
   "metadata": {},
   "outputs": [
    {
     "name": "stdout",
     "output_type": "stream",
     "text": [
      "+--------+-------+----------------+----------+----------+----------------+\n",
      "|Order ID|Product|Quantity Ordered|Price Each|Order Date|Purchase Address|\n",
      "+--------+-------+----------------+----------+----------+----------------+\n",
      "|Order ID|Product|Quantity Ordered|Price Each|Order Date|Purchase Address|\n",
      "+--------+-------+----------------+----------+----------+----------------+\n",
      "\n"
     ]
    }
   ],
   "source": [
    "sales_temp_df.filter(col(\"Order ID\") == \"Order ID\").show(10)"
   ]
  },
  {
   "cell_type": "code",
   "execution_count": 187,
   "metadata": {},
   "outputs": [],
   "source": [
    "# filter out records that match column name\n",
    "sales_temp_df = sales_temp_df.filter(col(\"Order ID\") != \"Order ID\")"
   ]
  },
  {
   "cell_type": "code",
   "execution_count": 188,
   "metadata": {},
   "outputs": [
    {
     "name": "stdout",
     "output_type": "stream",
     "text": [
      "+--------+-------+----------------+----------+----------+----------------+\n",
      "|Order ID|Product|Quantity Ordered|Price Each|Order Date|Purchase Address|\n",
      "+--------+-------+----------------+----------+----------+----------------+\n",
      "+--------+-------+----------------+----------+----------+----------------+\n",
      "\n"
     ]
    }
   ],
   "source": [
    "sales_temp_df.filter(col(\"Order ID\") == \"Order ID\").show(10)"
   ]
  },
  {
   "cell_type": "code",
   "execution_count": 189,
   "metadata": {},
   "outputs": [
    {
     "name": "stdout",
     "output_type": "stream",
     "text": [
      "+--------+--------------------------+----------------+----------+--------------+----------------------------------------+\n",
      "|Order ID|Product                   |Quantity Ordered|Price Each|Order Date    |Purchase Address                        |\n",
      "+--------+--------------------------+----------------+----------+--------------+----------------------------------------+\n",
      "|295900  |AA Batteries (4-pack)     |1               |3.84      |12/27/19 18:56|283 Washington St, Boston, MA 02215     |\n",
      "|295923  |Lightning Charging Cable  |1               |14.95     |12/21/19 13:41|968 8th St, Austin, TX 73301            |\n",
      "|295991  |Lightning Charging Cable  |1               |14.95     |12/15/19 20:16|857 Center St, Boston, MA 02215         |\n",
      "|296076  |Macbook Pro Laptop        |1               |1700      |12/03/19 15:19|679 Chestnut St, San Francisco, CA 94016|\n",
      "|297015  |AAA Batteries (4-pack)    |3               |2.99      |12/13/19 08:43|58 Dogwood St, San Francisco, CA 94016  |\n",
      "|297237  |Bose SoundSport Headphones|1               |99.99     |12/16/19 10:28|355 Park St, Boston, MA 02215           |\n",
      "|297376  |27in FHD Monitor          |1               |149.99    |12/03/19 11:38|542 9th St, New York City, NY 10001     |\n",
      "|297438  |Lightning Charging Cable  |1               |14.95     |12/17/19 13:13|708 Walnut St, New York City, NY 10001  |\n",
      "|297541  |AAA Batteries (4-pack)    |1               |2.99      |12/20/19 10:24|538 Hickory St, San Francisco, CA 94016 |\n",
      "|297635  |Wired Headphones          |1               |11.99     |12/06/19 09:50|199 8th St, San Francisco, CA 94016     |\n",
      "+--------+--------------------------+----------------+----------+--------------+----------------------------------------+\n",
      "only showing top 10 rows\n",
      "\n"
     ]
    }
   ],
   "source": [
    "sales_temp_df.show(10, truncate=False)"
   ]
  },
  {
   "cell_type": "code",
   "execution_count": 190,
   "metadata": {},
   "outputs": [
    {
     "name": "stdout",
     "output_type": "stream",
     "text": [
      "+-------+------------------+------------+------------------+------------------+--------------+--------------------+\n",
      "|summary|          Order ID|     Product|  Quantity Ordered|        Price Each|    Order Date|    Purchase Address|\n",
      "+-------+------------------+------------+------------------+------------------+--------------+--------------------+\n",
      "|  count|            185686|      185686|            185686|            185686|        185686|              185686|\n",
      "|   mean|230411.37622653297|        null|1.1245435843305365|184.51925546352427|          null|                null|\n",
      "| stddev| 51511.71718332086|        null|0.4430687383832874| 332.8438383900525|          null|                null|\n",
      "|    min|            141234|20in Monitor|                 1|            109.99|01/01/19 03:07|1 11th St, Atlant...|\n",
      "|    max|            319670|      iPhone|                 9|            999.99|12/31/19 23:53|999 Wilson St, Sa...|\n",
      "+-------+------------------+------------+------------------+------------------+--------------+--------------------+\n",
      "\n"
     ]
    }
   ],
   "source": [
    "sales_temp_df.describe(\"Order ID\", \"Product\",\"Quantity Ordered\",\"Price Each\",\"Order Date\",\"Purchase Address\").show()"
   ]
  },
  {
   "cell_type": "markdown",
   "metadata": {},
   "source": [
    "## Extract the City and State from Purchase Address"
   ]
  },
  {
   "cell_type": "code",
   "execution_count": 191,
   "metadata": {},
   "outputs": [],
   "source": [
    "from pyspark.sql.functions import split"
   ]
  },
  {
   "cell_type": "code",
   "execution_count": 192,
   "metadata": {},
   "outputs": [
    {
     "name": "stdout",
     "output_type": "stream",
     "text": [
      "+----------------------------------------+\n",
      "|Purchase Address                        |\n",
      "+----------------------------------------+\n",
      "|283 Washington St, Boston, MA 02215     |\n",
      "|968 8th St, Austin, TX 73301            |\n",
      "|857 Center St, Boston, MA 02215         |\n",
      "|679 Chestnut St, San Francisco, CA 94016|\n",
      "|58 Dogwood St, San Francisco, CA 94016  |\n",
      "|355 Park St, Boston, MA 02215           |\n",
      "|542 9th St, New York City, NY 10001     |\n",
      "|708 Walnut St, New York City, NY 10001  |\n",
      "|538 Hickory St, San Francisco, CA 94016 |\n",
      "|199 8th St, San Francisco, CA 94016     |\n",
      "+----------------------------------------+\n",
      "only showing top 10 rows\n",
      "\n"
     ]
    }
   ],
   "source": [
    "sales_temp_df.select(\"Purchase Address\").show(10, False)"
   ]
  },
  {
   "cell_type": "code",
   "execution_count": 193,
   "metadata": {},
   "outputs": [
    {
     "name": "stdout",
     "output_type": "stream",
     "text": [
      "+----------------------------------------+--------------------------------------------+\n",
      "|Purchase Address                        |split(Purchase Address, ,, -1)              |\n",
      "+----------------------------------------+--------------------------------------------+\n",
      "|283 Washington St, Boston, MA 02215     |[283 Washington St,  Boston,  MA 02215]     |\n",
      "|968 8th St, Austin, TX 73301            |[968 8th St,  Austin,  TX 73301]            |\n",
      "|857 Center St, Boston, MA 02215         |[857 Center St,  Boston,  MA 02215]         |\n",
      "|679 Chestnut St, San Francisco, CA 94016|[679 Chestnut St,  San Francisco,  CA 94016]|\n",
      "|58 Dogwood St, San Francisco, CA 94016  |[58 Dogwood St,  San Francisco,  CA 94016]  |\n",
      "|355 Park St, Boston, MA 02215           |[355 Park St,  Boston,  MA 02215]           |\n",
      "|542 9th St, New York City, NY 10001     |[542 9th St,  New York City,  NY 10001]     |\n",
      "|708 Walnut St, New York City, NY 10001  |[708 Walnut St,  New York City,  NY 10001]  |\n",
      "|538 Hickory St, San Francisco, CA 94016 |[538 Hickory St,  San Francisco,  CA 94016] |\n",
      "|199 8th St, San Francisco, CA 94016     |[199 8th St,  San Francisco,  CA 94016]     |\n",
      "+----------------------------------------+--------------------------------------------+\n",
      "only showing top 10 rows\n",
      "\n"
     ]
    }
   ],
   "source": [
    "# using split function to split address column into list/array\n",
    "sales_temp_df.select(\"Purchase Address\", split(col(\"Purchase Address\"), \",\")).show(10, False)"
   ]
  },
  {
   "cell_type": "code",
   "execution_count": 194,
   "metadata": {},
   "outputs": [
    {
     "name": "stdout",
     "output_type": "stream",
     "text": [
      "+----------------------------------------+---------------------------------+\n",
      "|Purchase Address                        |split(Purchase Address, ,, -1)[1]|\n",
      "+----------------------------------------+---------------------------------+\n",
      "|283 Washington St, Boston, MA 02215     | Boston                          |\n",
      "|968 8th St, Austin, TX 73301            | Austin                          |\n",
      "|857 Center St, Boston, MA 02215         | Boston                          |\n",
      "|679 Chestnut St, San Francisco, CA 94016| San Francisco                   |\n",
      "|58 Dogwood St, San Francisco, CA 94016  | San Francisco                   |\n",
      "|355 Park St, Boston, MA 02215           | Boston                          |\n",
      "|542 9th St, New York City, NY 10001     | New York City                   |\n",
      "|708 Walnut St, New York City, NY 10001  | New York City                   |\n",
      "|538 Hickory St, San Francisco, CA 94016 | San Francisco                   |\n",
      "|199 8th St, San Francisco, CA 94016     | San Francisco                   |\n",
      "+----------------------------------------+---------------------------------+\n",
      "only showing top 10 rows\n",
      "\n"
     ]
    }
   ],
   "source": [
    "# getting only the city, array position 1\n",
    "sales_temp_df.select(\"Purchase Address\", split(col(\"Purchase Address\"), \",\").getItem(1)).show(10, False)"
   ]
  },
  {
   "cell_type": "code",
   "execution_count": 195,
   "metadata": {},
   "outputs": [
    {
     "name": "stdout",
     "output_type": "stream",
     "text": [
      "+----------------------------------------+---------------------------------+\n",
      "|Purchase Address                        |split(Purchase Address, ,, -1)[2]|\n",
      "+----------------------------------------+---------------------------------+\n",
      "|283 Washington St, Boston, MA 02215     | MA 02215                        |\n",
      "|968 8th St, Austin, TX 73301            | TX 73301                        |\n",
      "|857 Center St, Boston, MA 02215         | MA 02215                        |\n",
      "|679 Chestnut St, San Francisco, CA 94016| CA 94016                        |\n",
      "|58 Dogwood St, San Francisco, CA 94016  | CA 94016                        |\n",
      "|355 Park St, Boston, MA 02215           | MA 02215                        |\n",
      "|542 9th St, New York City, NY 10001     | NY 10001                        |\n",
      "|708 Walnut St, New York City, NY 10001  | NY 10001                        |\n",
      "|538 Hickory St, San Francisco, CA 94016 | CA 94016                        |\n",
      "|199 8th St, San Francisco, CA 94016     | CA 94016                        |\n",
      "+----------------------------------------+---------------------------------+\n",
      "only showing top 10 rows\n",
      "\n"
     ]
    }
   ],
   "source": [
    "sales_temp_df.select(\"Purchase Address\", split(col(\"Purchase Address\"), \",\").getItem(2)).show(10, False)"
   ]
  },
  {
   "cell_type": "code",
   "execution_count": 196,
   "metadata": {},
   "outputs": [
    {
     "name": "stdout",
     "output_type": "stream",
     "text": [
      "+----------------------------------------+-----------------------------------------------+\n",
      "|Purchase Address                        |split(split(Purchase Address, ,, -1)[2],  , -1)|\n",
      "+----------------------------------------+-----------------------------------------------+\n",
      "|283 Washington St, Boston, MA 02215     |[, MA, 02215]                                  |\n",
      "|968 8th St, Austin, TX 73301            |[, TX, 73301]                                  |\n",
      "|857 Center St, Boston, MA 02215         |[, MA, 02215]                                  |\n",
      "|679 Chestnut St, San Francisco, CA 94016|[, CA, 94016]                                  |\n",
      "|58 Dogwood St, San Francisco, CA 94016  |[, CA, 94016]                                  |\n",
      "|355 Park St, Boston, MA 02215           |[, MA, 02215]                                  |\n",
      "|542 9th St, New York City, NY 10001     |[, NY, 10001]                                  |\n",
      "|708 Walnut St, New York City, NY 10001  |[, NY, 10001]                                  |\n",
      "|538 Hickory St, San Francisco, CA 94016 |[, CA, 94016]                                  |\n",
      "|199 8th St, San Francisco, CA 94016     |[, CA, 94016]                                  |\n",
      "+----------------------------------------+-----------------------------------------------+\n",
      "only showing top 10 rows\n",
      "\n"
     ]
    }
   ],
   "source": [
    "# Want to extract state, so we need to use another split\n",
    "sales_temp_df.select(\"Purchase Address\", split(split(col(\"Purchase Address\"), \",\").getItem(2), ' ')).show(10, False)"
   ]
  },
  {
   "cell_type": "code",
   "execution_count": 197,
   "metadata": {},
   "outputs": [],
   "source": [
    "sales_temp_df = (sales_temp_df.withColumn(\"City\", split(col(\"Purchase Address\"), \",\").getItem(1))\n",
    "                              .withColumn(\"State\", split(split(col(\"Purchase Address\"), \",\").getItem(2), ' ').getItem(1)))"
   ]
  },
  {
   "cell_type": "code",
   "execution_count": 198,
   "metadata": {},
   "outputs": [
    {
     "name": "stdout",
     "output_type": "stream",
     "text": [
      "+--------+--------------------------+----------------+----------+--------------+----------------------------------------+--------------+-----+\n",
      "|Order ID|Product                   |Quantity Ordered|Price Each|Order Date    |Purchase Address                        |City          |State|\n",
      "+--------+--------------------------+----------------+----------+--------------+----------------------------------------+--------------+-----+\n",
      "|295900  |AA Batteries (4-pack)     |1               |3.84      |12/27/19 18:56|283 Washington St, Boston, MA 02215     | Boston       |MA   |\n",
      "|295923  |Lightning Charging Cable  |1               |14.95     |12/21/19 13:41|968 8th St, Austin, TX 73301            | Austin       |TX   |\n",
      "|295991  |Lightning Charging Cable  |1               |14.95     |12/15/19 20:16|857 Center St, Boston, MA 02215         | Boston       |MA   |\n",
      "|296076  |Macbook Pro Laptop        |1               |1700      |12/03/19 15:19|679 Chestnut St, San Francisco, CA 94016| San Francisco|CA   |\n",
      "|297015  |AAA Batteries (4-pack)    |3               |2.99      |12/13/19 08:43|58 Dogwood St, San Francisco, CA 94016  | San Francisco|CA   |\n",
      "|297237  |Bose SoundSport Headphones|1               |99.99     |12/16/19 10:28|355 Park St, Boston, MA 02215           | Boston       |MA   |\n",
      "|297376  |27in FHD Monitor          |1               |149.99    |12/03/19 11:38|542 9th St, New York City, NY 10001     | New York City|NY   |\n",
      "|297438  |Lightning Charging Cable  |1               |14.95     |12/17/19 13:13|708 Walnut St, New York City, NY 10001  | New York City|NY   |\n",
      "|297541  |AAA Batteries (4-pack)    |1               |2.99      |12/20/19 10:24|538 Hickory St, San Francisco, CA 94016 | San Francisco|CA   |\n",
      "|297635  |Wired Headphones          |1               |11.99     |12/06/19 09:50|199 8th St, San Francisco, CA 94016     | San Francisco|CA   |\n",
      "+--------+--------------------------+----------------+----------+--------------+----------------------------------------+--------------+-----+\n",
      "only showing top 10 rows\n",
      "\n"
     ]
    }
   ],
   "source": [
    "sales_temp_df.show(10, False)"
   ]
  },
  {
   "cell_type": "markdown",
   "metadata": {},
   "source": [
    "### Rename and Change DataTypes"
   ]
  },
  {
   "cell_type": "code",
   "execution_count": 199,
   "metadata": {},
   "outputs": [],
   "source": [
    "from pyspark.sql.functions import to_timestamp,year,month\n",
    "from pyspark.sql.types import IntegerType, FloatType"
   ]
  },
  {
   "cell_type": "code",
   "execution_count": 200,
   "metadata": {},
   "outputs": [],
   "source": [
    "sales_temp_df = (sales_temp_df.withColumn(\"OrderID\", col(\"Order ID\").cast(IntegerType()))\n",
    "                              .withColumn(\"Quantity\", col(\"Quantity Ordered\").cast(IntegerType()))\n",
    "                              .withColumn(\"Price\", col(\"Price Each\").cast(FloatType()))\n",
    "                              .withColumn(\"OrderDate\", to_timestamp(col(\"Order Date\"), \"MM/dd/yy HH:mm\"))\n",
    "                              .withColumnRenamed(\"Purchase Address\", \"StoreAddress\")\n",
    "                            .drop(\"Order ID\")\n",
    "                            .drop(\"Quantity Ordered\")\n",
    "                            .drop(\"Price Each\")\n",
    "                            .drop(\"Purchase Address\"))"
   ]
  },
  {
   "cell_type": "code",
   "execution_count": 201,
   "metadata": {},
   "outputs": [
    {
     "name": "stdout",
     "output_type": "stream",
     "text": [
      "+--------------------------+--------------+----------------------------------------+--------------+-----+-------+--------+------+-------------------+\n",
      "|Product                   |Order Date    |StoreAddress                            |City          |State|OrderID|Quantity|Price |OrderDate          |\n",
      "+--------------------------+--------------+----------------------------------------+--------------+-----+-------+--------+------+-------------------+\n",
      "|AA Batteries (4-pack)     |12/27/19 18:56|283 Washington St, Boston, MA 02215     | Boston       |MA   |295900 |1       |3.84  |2019-12-27 18:56:00|\n",
      "|Lightning Charging Cable  |12/21/19 13:41|968 8th St, Austin, TX 73301            | Austin       |TX   |295923 |1       |14.95 |2019-12-21 13:41:00|\n",
      "|Lightning Charging Cable  |12/15/19 20:16|857 Center St, Boston, MA 02215         | Boston       |MA   |295991 |1       |14.95 |2019-12-15 20:16:00|\n",
      "|Macbook Pro Laptop        |12/03/19 15:19|679 Chestnut St, San Francisco, CA 94016| San Francisco|CA   |296076 |1       |1700.0|2019-12-03 15:19:00|\n",
      "|AAA Batteries (4-pack)    |12/13/19 08:43|58 Dogwood St, San Francisco, CA 94016  | San Francisco|CA   |297015 |3       |2.99  |2019-12-13 08:43:00|\n",
      "|Bose SoundSport Headphones|12/16/19 10:28|355 Park St, Boston, MA 02215           | Boston       |MA   |297237 |1       |99.99 |2019-12-16 10:28:00|\n",
      "|27in FHD Monitor          |12/03/19 11:38|542 9th St, New York City, NY 10001     | New York City|NY   |297376 |1       |149.99|2019-12-03 11:38:00|\n",
      "|Lightning Charging Cable  |12/17/19 13:13|708 Walnut St, New York City, NY 10001  | New York City|NY   |297438 |1       |14.95 |2019-12-17 13:13:00|\n",
      "|AAA Batteries (4-pack)    |12/20/19 10:24|538 Hickory St, San Francisco, CA 94016 | San Francisco|CA   |297541 |1       |2.99  |2019-12-20 10:24:00|\n",
      "|Wired Headphones          |12/06/19 09:50|199 8th St, San Francisco, CA 94016     | San Francisco|CA   |297635 |1       |11.99 |2019-12-06 09:50:00|\n",
      "+--------------------------+--------------+----------------------------------------+--------------+-----+-------+--------+------+-------------------+\n",
      "only showing top 10 rows\n",
      "\n"
     ]
    }
   ],
   "source": [
    "sales_temp_df.show(10,False)"
   ]
  },
  {
   "cell_type": "code",
   "execution_count": 202,
   "metadata": {},
   "outputs": [
    {
     "name": "stdout",
     "output_type": "stream",
     "text": [
      "root\n",
      " |-- Product: string (nullable = true)\n",
      " |-- Order Date: string (nullable = true)\n",
      " |-- StoreAddress: string (nullable = true)\n",
      " |-- City: string (nullable = true)\n",
      " |-- State: string (nullable = true)\n",
      " |-- OrderID: integer (nullable = true)\n",
      " |-- Quantity: integer (nullable = true)\n",
      " |-- Price: float (nullable = true)\n",
      " |-- OrderDate: timestamp (nullable = true)\n",
      "\n"
     ]
    }
   ],
   "source": [
    "sales_temp_df.printSchema()"
   ]
  },
  {
   "cell_type": "markdown",
   "metadata": {},
   "source": [
    "### Add New Columns and Month/Year"
   ]
  },
  {
   "cell_type": "code",
   "execution_count": 203,
   "metadata": {},
   "outputs": [],
   "source": [
    "sales_temp_df = (sales_temp_df.withColumn(\"ReportYear\", year(\"OrderDate\"))\n",
    "                .withColumn(\"ReportMonth\", month(\"OrderDate\")))"
   ]
  },
  {
   "cell_type": "code",
   "execution_count": 204,
   "metadata": {},
   "outputs": [
    {
     "name": "stdout",
     "output_type": "stream",
     "text": [
      "+--------------------+--------------+--------------------+--------------+-----+-------+--------+------+-------------------+----------+-----------+\n",
      "|             Product|    Order Date|        StoreAddress|          City|State|OrderID|Quantity| Price|          OrderDate|ReportYear|ReportMonth|\n",
      "+--------------------+--------------+--------------------+--------------+-----+-------+--------+------+-------------------+----------+-----------+\n",
      "|AA Batteries (4-p...|12/27/19 18:56|283 Washington St...|        Boston|   MA| 295900|       1|  3.84|2019-12-27 18:56:00|      2019|         12|\n",
      "|Lightning Chargin...|12/21/19 13:41|968 8th St, Austi...|        Austin|   TX| 295923|       1| 14.95|2019-12-21 13:41:00|      2019|         12|\n",
      "|Lightning Chargin...|12/15/19 20:16|857 Center St, Bo...|        Boston|   MA| 295991|       1| 14.95|2019-12-15 20:16:00|      2019|         12|\n",
      "|  Macbook Pro Laptop|12/03/19 15:19|679 Chestnut St, ...| San Francisco|   CA| 296076|       1|1700.0|2019-12-03 15:19:00|      2019|         12|\n",
      "|AAA Batteries (4-...|12/13/19 08:43|58 Dogwood St, Sa...| San Francisco|   CA| 297015|       3|  2.99|2019-12-13 08:43:00|      2019|         12|\n",
      "|Bose SoundSport H...|12/16/19 10:28|355 Park St, Bost...|        Boston|   MA| 297237|       1| 99.99|2019-12-16 10:28:00|      2019|         12|\n",
      "|    27in FHD Monitor|12/03/19 11:38|542 9th St, New Y...| New York City|   NY| 297376|       1|149.99|2019-12-03 11:38:00|      2019|         12|\n",
      "|Lightning Chargin...|12/17/19 13:13|708 Walnut St, Ne...| New York City|   NY| 297438|       1| 14.95|2019-12-17 13:13:00|      2019|         12|\n",
      "|AAA Batteries (4-...|12/20/19 10:24|538 Hickory St, S...| San Francisco|   CA| 297541|       1|  2.99|2019-12-20 10:24:00|      2019|         12|\n",
      "|    Wired Headphones|12/06/19 09:50|199 8th St, San F...| San Francisco|   CA| 297635|       1| 11.99|2019-12-06 09:50:00|      2019|         12|\n",
      "+--------------------+--------------+--------------------+--------------+-----+-------+--------+------+-------------------+----------+-----------+\n",
      "only showing top 10 rows\n",
      "\n"
     ]
    }
   ],
   "source": [
    "sales_temp_df.show(10)"
   ]
  },
  {
   "cell_type": "markdown",
   "metadata": {},
   "source": [
    "### Write Final DataFrame to Parquet"
   ]
  },
  {
   "cell_type": "code",
   "execution_count": 205,
   "metadata": {},
   "outputs": [],
   "source": [
    "sales_final_df = sales_temp_df.select(\"OrderID\",\"Product\",\"Quantity\",\"Price\",\"OrderDate\",\"StoreAddress\",\"City\",\"State\",\"ReportYear\",\"ReportMonth\")"
   ]
  },
  {
   "cell_type": "code",
   "execution_count": 206,
   "metadata": {},
   "outputs": [
    {
     "name": "stdout",
     "output_type": "stream",
     "text": [
      "+-------+--------------------+--------+------+-------------------+--------------------+--------------+-----+----------+-----------+\n",
      "|OrderID|             Product|Quantity| Price|          OrderDate|        StoreAddress|          City|State|ReportYear|ReportMonth|\n",
      "+-------+--------------------+--------+------+-------------------+--------------------+--------------+-----+----------+-----------+\n",
      "| 295900|AA Batteries (4-p...|       1|  3.84|2019-12-27 18:56:00|283 Washington St...|        Boston|   MA|      2019|         12|\n",
      "| 295923|Lightning Chargin...|       1| 14.95|2019-12-21 13:41:00|968 8th St, Austi...|        Austin|   TX|      2019|         12|\n",
      "| 295991|Lightning Chargin...|       1| 14.95|2019-12-15 20:16:00|857 Center St, Bo...|        Boston|   MA|      2019|         12|\n",
      "| 296076|  Macbook Pro Laptop|       1|1700.0|2019-12-03 15:19:00|679 Chestnut St, ...| San Francisco|   CA|      2019|         12|\n",
      "| 297015|AAA Batteries (4-...|       3|  2.99|2019-12-13 08:43:00|58 Dogwood St, Sa...| San Francisco|   CA|      2019|         12|\n",
      "| 297237|Bose SoundSport H...|       1| 99.99|2019-12-16 10:28:00|355 Park St, Bost...|        Boston|   MA|      2019|         12|\n",
      "| 297376|    27in FHD Monitor|       1|149.99|2019-12-03 11:38:00|542 9th St, New Y...| New York City|   NY|      2019|         12|\n",
      "| 297438|Lightning Chargin...|       1| 14.95|2019-12-17 13:13:00|708 Walnut St, Ne...| New York City|   NY|      2019|         12|\n",
      "| 297541|AAA Batteries (4-...|       1|  2.99|2019-12-20 10:24:00|538 Hickory St, S...| San Francisco|   CA|      2019|         12|\n",
      "| 297635|    Wired Headphones|       1| 11.99|2019-12-06 09:50:00|199 8th St, San F...| San Francisco|   CA|      2019|         12|\n",
      "+-------+--------------------+--------+------+-------------------+--------------------+--------------+-----+----------+-----------+\n",
      "only showing top 10 rows\n",
      "\n"
     ]
    }
   ],
   "source": [
    "sales_final_df.show(10)"
   ]
  },
  {
   "cell_type": "code",
   "execution_count": 207,
   "metadata": {},
   "outputs": [],
   "source": [
    "#write to parquet partitioned by year (parent dir) and month (sub dirs)\n",
    "output_path = './data/output/sales'\n",
    "sales_final_df.write.mode(\"overwrite\").partitionBy(\"ReportYear\",\"ReportMonth\").parquet(output_path)"
   ]
  },
  {
   "cell_type": "code",
   "execution_count": null,
   "metadata": {},
   "outputs": [],
   "source": []
  },
  {
   "cell_type": "code",
   "execution_count": null,
   "metadata": {},
   "outputs": [],
   "source": []
  }
 ],
 "metadata": {
  "kernelspec": {
   "display_name": "Python 3",
   "language": "python",
   "name": "python3"
  },
  "language_info": {
   "codemirror_mode": {
    "name": "ipython",
    "version": 3
   },
   "file_extension": ".py",
   "mimetype": "text/x-python",
   "name": "python",
   "nbconvert_exporter": "python",
   "pygments_lexer": "ipython3",
   "version": "3.8.5"
  }
 },
 "nbformat": 4,
 "nbformat_minor": 4
}
