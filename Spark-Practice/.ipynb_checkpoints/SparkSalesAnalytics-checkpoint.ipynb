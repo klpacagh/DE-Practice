{
 "cells": [
  {
   "cell_type": "code",
   "execution_count": 43,
   "id": "d3070c11-f106-4855-b822-3eb840f00e34",
   "metadata": {},
   "outputs": [],
   "source": [
    "from pyspark.sql import SparkSession\n",
    "from pyspark.sql.functions import col, expr"
   ]
  },
  {
   "cell_type": "code",
   "execution_count": 44,
   "id": "c148a638-16ac-4f91-95b9-72ad88af1a48",
   "metadata": {},
   "outputs": [],
   "source": [
    "spark = (SparkSession.builder.appName(\"SalesAnalytics\").getOrCreate())"
   ]
  },
  {
   "cell_type": "markdown",
   "id": "a0eb3556-52ca-45dd-8c67-ae65d4c6e2ac",
   "metadata": {},
   "source": [
    "### Read 2019 Data from Parquet file"
   ]
  },
  {
   "cell_type": "code",
   "execution_count": 45,
   "id": "82563349-e303-4c57-b6a7-f694c9372ab2",
   "metadata": {},
   "outputs": [],
   "source": [
    "source_data_path = './data/output/sales/'\n",
    "partition = \"ReportYear=2019\"\n",
    "full_path = f\"{source_data_path}{partition}\""
   ]
  },
  {
   "cell_type": "code",
   "execution_count": 46,
   "id": "a8b3b42b-bfd1-47d6-a1f9-94543c9a0c4d",
   "metadata": {},
   "outputs": [
    {
     "name": "stdout",
     "output_type": "stream",
     "text": [
      "+-------+--------------------------+--------+------+-------------------+---------------------------------------+--------------+-----+-----------+\n",
      "|OrderID|Product                   |Quantity|Price |OrderDate          |StoreAddress                           |City          |State|ReportMonth|\n",
      "+-------+--------------------------+--------+------+-------------------+---------------------------------------+--------------+-----+-----------+\n",
      "|295778 |AA Batteries (4-pack)     |1       |3.84  |2019-12-08 21:09:00|820 Adams St, San Francisco, CA 94016  | San Francisco|CA   |12         |\n",
      "|296047 |AAA Batteries (4-pack)    |2       |2.99  |2019-12-02 18:09:00|433 4th St, Los Angeles, CA 90001      | Los Angeles  |CA   |12         |\n",
      "|296233 |AA Batteries (4-pack)     |1       |3.84  |2019-12-05 15:49:00|444 8th St, Los Angeles, CA 90001      | Los Angeles  |CA   |12         |\n",
      "|296603 |AAA Batteries (4-pack)    |1       |2.99  |2019-12-02 20:21:00|665 10th St, San Francisco, CA 94016   | San Francisco|CA   |12         |\n",
      "|296639 |27in FHD Monitor          |1       |149.99|2019-12-25 11:35:00|860 7th St, New York City, NY 10001    | New York City|NY   |12         |\n",
      "|296749 |34in Ultrawide Monitor    |1       |379.99|2019-12-05 21:21:00|570 Adams St, Seattle, WA 98101        | Seattle      |WA   |12         |\n",
      "|296810 |Wired Headphones          |1       |11.99 |2019-12-10 17:31:00|517 Park St, Boston, MA 02215          | Boston       |MA   |12         |\n",
      "|297143 |Apple Airpods Headphones  |1       |150.0 |2019-12-05 08:34:00|625 Lincoln St, San Francisco, CA 94016| San Francisco|CA   |12         |\n",
      "|297288 |AA Batteries (4-pack)     |2       |3.84  |2019-12-31 23:16:00|914 Madison St, San Francisco, CA 94016| San Francisco|CA   |12         |\n",
      "|297311 |Bose SoundSport Headphones|1       |99.99 |2019-12-07 07:30:00|858 Willow St, Los Angeles, CA 90001   | Los Angeles  |CA   |12         |\n",
      "+-------+--------------------------+--------+------+-------------------+---------------------------------------+--------------+-----+-----------+\n",
      "only showing top 10 rows\n",
      "\n"
     ]
    }
   ],
   "source": [
    "sales2019_df = spark.read.parquet(full_path)\n",
    "sales2019_df.show(10,False)"
   ]
  },
  {
   "cell_type": "markdown",
   "id": "ecdc5656-0932-4218-a3bf-88955d54aac0",
   "metadata": {},
   "source": [
    "### What was the best month in sales?"
   ]
  },
  {
   "cell_type": "code",
   "execution_count": 47,
   "id": "d53778cb-6760-4428-82c3-8a66c893791e",
   "metadata": {},
   "outputs": [],
   "source": [
    "from pyspark.sql.functions import round, sum\n",
    "import pandas as pd # not great for huge datasets, cannot run on clusters\n",
    "import matplotlib.pyplot as plt\n",
    "import seaborn as sns"
   ]
  },
  {
   "cell_type": "code",
   "execution_count": 48,
   "id": "0f36c8d4-923e-4207-848a-f8568d5b54a9",
   "metadata": {},
   "outputs": [],
   "source": [
    "sales_q1_df = (sales2019_df.select(\n",
    "    col(\"OrderID\"),\n",
    "    col(\"ReportMonth\"),\n",
    "    col(\"Price\"),\n",
    "    col(\"Quantity\"),\n",
    "    expr(\"Price * Quantity\"). alias(\"Sales\")))"
   ]
  },
  {
   "cell_type": "code",
   "execution_count": 49,
   "id": "b7bcb214-0398-48fc-bf16-d8b7285af297",
   "metadata": {},
   "outputs": [
    {
     "name": "stdout",
     "output_type": "stream",
     "text": [
      "+-------+-----------+------+--------+------+\n",
      "|OrderID|ReportMonth| Price|Quantity| Sales|\n",
      "+-------+-----------+------+--------+------+\n",
      "| 295778|         12|  3.84|       1|  3.84|\n",
      "| 296047|         12|  2.99|       2|  5.98|\n",
      "| 296233|         12|  3.84|       1|  3.84|\n",
      "| 296603|         12|  2.99|       1|  2.99|\n",
      "| 296639|         12|149.99|       1|149.99|\n",
      "+-------+-----------+------+--------+------+\n",
      "only showing top 5 rows\n",
      "\n"
     ]
    }
   ],
   "source": [
    "sales_q1_df.show(5)"
   ]
  },
  {
   "cell_type": "code",
   "execution_count": 50,
   "id": "7c374ba3-853d-4a7e-95e5-74979840cb5b",
   "metadata": {},
   "outputs": [],
   "source": [
    "sales_q1_df = (sales_q1_df.groupBy(\"ReportMonth\")\n",
    "              .agg(round(sum(\"Sales\"), 2).alias(\"TotalSales\"))\n",
    "              .orderBy(\"TotalSales\", ascending=False))"
   ]
  },
  {
   "cell_type": "code",
   "execution_count": 51,
   "id": "8052693e-5b90-4495-b657-668cf4021c7e",
   "metadata": {},
   "outputs": [
    {
     "name": "stdout",
     "output_type": "stream",
     "text": [
      "+-----------+----------+\n",
      "|ReportMonth|TotalSales|\n",
      "+-----------+----------+\n",
      "|         12|4608295.68|\n",
      "|         10|3734777.84|\n",
      "|          4|3389217.96|\n",
      "|         11|3197875.03|\n",
      "|          5|3150616.21|\n",
      "|          3|2804973.34|\n",
      "|          7|2646461.31|\n",
      "|          6|2576280.14|\n",
      "|          8|2241083.36|\n",
      "|          2|2200078.07|\n",
      "+-----------+----------+\n",
      "only showing top 10 rows\n",
      "\n"
     ]
    }
   ],
   "source": [
    "sales_q1_df.show(10)"
   ]
  },
  {
   "cell_type": "code",
   "execution_count": 52,
   "id": "d208f304-7d1d-4e17-986f-fd5f909393b4",
   "metadata": {},
   "outputs": [],
   "source": [
    "pandas_q1_df = (sales_q1_df.orderBy(\"ReportMonth\")).toPandas()"
   ]
  },
  {
   "cell_type": "code",
   "execution_count": 53,
   "id": "13cc6029-c4d7-4837-93fe-257054f85cf6",
   "metadata": {},
   "outputs": [
    {
     "data": {
      "text/html": [
       "<div>\n",
       "<style scoped>\n",
       "    .dataframe tbody tr th:only-of-type {\n",
       "        vertical-align: middle;\n",
       "    }\n",
       "\n",
       "    .dataframe tbody tr th {\n",
       "        vertical-align: top;\n",
       "    }\n",
       "\n",
       "    .dataframe thead th {\n",
       "        text-align: right;\n",
       "    }\n",
       "</style>\n",
       "<table border=\"1\" class=\"dataframe\">\n",
       "  <thead>\n",
       "    <tr style=\"text-align: right;\">\n",
       "      <th></th>\n",
       "      <th>ReportMonth</th>\n",
       "      <th>TotalSales</th>\n",
       "    </tr>\n",
       "  </thead>\n",
       "  <tbody>\n",
       "    <tr>\n",
       "      <th>0</th>\n",
       "      <td>1</td>\n",
       "      <td>1812742.86</td>\n",
       "    </tr>\n",
       "    <tr>\n",
       "      <th>1</th>\n",
       "      <td>2</td>\n",
       "      <td>2200078.07</td>\n",
       "    </tr>\n",
       "    <tr>\n",
       "      <th>2</th>\n",
       "      <td>3</td>\n",
       "      <td>2804973.34</td>\n",
       "    </tr>\n",
       "    <tr>\n",
       "      <th>3</th>\n",
       "      <td>4</td>\n",
       "      <td>3389217.96</td>\n",
       "    </tr>\n",
       "    <tr>\n",
       "      <th>4</th>\n",
       "      <td>5</td>\n",
       "      <td>3150616.21</td>\n",
       "    </tr>\n",
       "    <tr>\n",
       "      <th>5</th>\n",
       "      <td>6</td>\n",
       "      <td>2576280.14</td>\n",
       "    </tr>\n",
       "    <tr>\n",
       "      <th>6</th>\n",
       "      <td>7</td>\n",
       "      <td>2646461.31</td>\n",
       "    </tr>\n",
       "    <tr>\n",
       "      <th>7</th>\n",
       "      <td>8</td>\n",
       "      <td>2241083.36</td>\n",
       "    </tr>\n",
       "    <tr>\n",
       "      <th>8</th>\n",
       "      <td>9</td>\n",
       "      <td>2094465.68</td>\n",
       "    </tr>\n",
       "    <tr>\n",
       "      <th>9</th>\n",
       "      <td>10</td>\n",
       "      <td>3734777.84</td>\n",
       "    </tr>\n",
       "    <tr>\n",
       "      <th>10</th>\n",
       "      <td>11</td>\n",
       "      <td>3197875.03</td>\n",
       "    </tr>\n",
       "    <tr>\n",
       "      <th>11</th>\n",
       "      <td>12</td>\n",
       "      <td>4608295.68</td>\n",
       "    </tr>\n",
       "  </tbody>\n",
       "</table>\n",
       "</div>"
      ],
      "text/plain": [
       "    ReportMonth  TotalSales\n",
       "0             1  1812742.86\n",
       "1             2  2200078.07\n",
       "2             3  2804973.34\n",
       "3             4  3389217.96\n",
       "4             5  3150616.21\n",
       "5             6  2576280.14\n",
       "6             7  2646461.31\n",
       "7             8  2241083.36\n",
       "8             9  2094465.68\n",
       "9            10  3734777.84\n",
       "10           11  3197875.03\n",
       "11           12  4608295.68"
      ]
     },
     "execution_count": 53,
     "metadata": {},
     "output_type": "execute_result"
    }
   ],
   "source": [
    "pandas_q1_df"
   ]
  },
  {
   "cell_type": "code",
   "execution_count": 54,
   "id": "439fac71-dbed-4055-a6fb-5dd0660c512c",
   "metadata": {},
   "outputs": [
    {
     "data": {
      "image/png": "[encoded data removed]",
      "text/plain": [
       "<Figure size 720x432 with 1 Axes>"
      ]
     },
     "metadata": {},
     "output_type": "display_data"
    }
   ],
   "source": [
    "plt.figure(figsize=(10,6))\n",
    "plt.ticklabel_format(useOffset=False, style='plain')\n",
    "sns.set_theme(style=\"whitegrid\")\n",
    "sns.barplot(x=\"ReportMonth\", y=\"TotalSales\", data=pandas_q1_df).set_title(\"Total Sales per Month\")\n",
    "plt.ylabel(\"Total Sales\")\n",
    "plt.show()"
   ]
  },
  {
   "cell_type": "code",
   "execution_count": 55,
   "id": "fd4dd4a3-0d14-47ce-b93f-04893157930d",
   "metadata": {},
   "outputs": [
    {
     "name": "stdout",
     "output_type": "stream",
     "text": [
      "+-------+--------------------+--------+------+-------------------+--------------------+--------------+-----+-----------+\n",
      "|OrderID|             Product|Quantity| Price|          OrderDate|        StoreAddress|          City|State|ReportMonth|\n",
      "+-------+--------------------+--------+------+-------------------+--------------------+--------------+-----+-----------+\n",
      "| 295778|AA Batteries (4-p...|       1|  3.84|2019-12-08 21:09:00|820 Adams St, San...| San Francisco|   CA|         12|\n",
      "| 296047|AAA Batteries (4-...|       2|  2.99|2019-12-02 18:09:00|433 4th St, Los A...|   Los Angeles|   CA|         12|\n",
      "| 296233|AA Batteries (4-p...|       1|  3.84|2019-12-05 15:49:00|444 8th St, Los A...|   Los Angeles|   CA|         12|\n",
      "| 296603|AAA Batteries (4-...|       1|  2.99|2019-12-02 20:21:00|665 10th St, San ...| San Francisco|   CA|         12|\n",
      "| 296639|    27in FHD Monitor|       1|149.99|2019-12-25 11:35:00|860 7th St, New Y...| New York City|   NY|         12|\n",
      "| 296749|34in Ultrawide Mo...|       1|379.99|2019-12-05 21:21:00|570 Adams St, Sea...|       Seattle|   WA|         12|\n",
      "| 296810|    Wired Headphones|       1| 11.99|2019-12-10 17:31:00|517 Park St, Bost...|        Boston|   MA|         12|\n",
      "| 297143|Apple Airpods Hea...|       1| 150.0|2019-12-05 08:34:00|625 Lincoln St, S...| San Francisco|   CA|         12|\n",
      "| 297288|AA Batteries (4-p...|       2|  3.84|2019-12-31 23:16:00|914 Madison St, S...| San Francisco|   CA|         12|\n",
      "| 297311|Bose SoundSport H...|       1| 99.99|2019-12-07 07:30:00|858 Willow St, Lo...|   Los Angeles|   CA|         12|\n",
      "+-------+--------------------+--------+------+-------------------+--------------------+--------------+-----+-----------+\n",
      "only showing top 10 rows\n",
      "\n"
     ]
    }
   ],
   "source": [
    "sales2019_df.show(10)"
   ]
  },
  {
   "cell_type": "code",
   "execution_count": 56,
   "id": "280ce51a-0eac-4d3b-a48d-d9fd39988e5a",
   "metadata": {},
   "outputs": [
    {
     "name": "stdout",
     "output_type": "stream",
     "text": [
      "+-------+--------+--------------+\n",
      "|OrderID|Quantity|          City|\n",
      "+-------+--------+--------------+\n",
      "| 295778|       1| San Francisco|\n",
      "| 296047|       2|   Los Angeles|\n",
      "| 296233|       1|   Los Angeles|\n",
      "| 296603|       1| San Francisco|\n",
      "| 296639|       1| New York City|\n",
      "| 296749|       1|       Seattle|\n",
      "| 296810|       1|        Boston|\n",
      "| 297143|       1| San Francisco|\n",
      "| 297288|       2| San Francisco|\n",
      "| 297311|       1|   Los Angeles|\n",
      "| 297531|       1|        Boston|\n",
      "| 297537|       1|      Portland|\n",
      "| 297999|       1| San Francisco|\n",
      "| 298321|       1| New York City|\n",
      "| 298578|       2| New York City|\n",
      "| 298774|       1|        Boston|\n",
      "| 298853|       1|   Los Angeles|\n",
      "| 298971|       1| New York City|\n",
      "| 299990|       1|        Dallas|\n",
      "| 300048|       1| New York City|\n",
      "+-------+--------+--------------+\n",
      "only showing top 20 rows\n",
      "\n"
     ]
    }
   ],
   "source": [
    "sales2019_df.select(\"OrderID\",\"Quantity\",\"City\").show()"
   ]
  },
  {
   "cell_type": "code",
   "execution_count": 57,
   "id": "f01e5e46-cc64-4252-b0d1-28a38ae383a6",
   "metadata": {},
   "outputs": [],
   "source": [
    "# What City has sold the most product?\n",
    "\n",
    "sales_q2_df = (sales2019_df.groupBy(\"City\")\n",
    "              .agg(sum(\"Quantity\").alias(\"TotalProducts\"))\n",
    "              .orderBy(\"TotalProducts\", ascending=False))"
   ]
  },
  {
   "cell_type": "code",
   "execution_count": 58,
   "id": "d34301bd-624b-47fc-8784-845e04058095",
   "metadata": {},
   "outputs": [
    {
     "name": "stdout",
     "output_type": "stream",
     "text": [
      "+--------------+-------------+\n",
      "|City          |TotalProducts|\n",
      "+--------------+-------------+\n",
      "| San Francisco|50156        |\n",
      "| Los Angeles  |33246        |\n",
      "| New York City|27887        |\n",
      "| Boston       |22490        |\n",
      "| Dallas       |16705        |\n",
      "| Atlanta      |16584        |\n",
      "| Seattle      |16533        |\n",
      "| Portland     |14035        |\n",
      "| Austin       |11135        |\n",
      "+--------------+-------------+\n",
      "\n"
     ]
    }
   ],
   "source": [
    "sales_q2_df.show(10,False)"
   ]
  },
  {
   "cell_type": "code",
   "execution_count": 59,
   "id": "0a1a8a90-0926-4481-9a4e-a8d5685e5f35",
   "metadata": {},
   "outputs": [
    {
     "data": {
      "text/html": [
       "<div>\n",
       "<style scoped>\n",
       "    .dataframe tbody tr th:only-of-type {\n",
       "        vertical-align: middle;\n",
       "    }\n",
       "\n",
       "    .dataframe tbody tr th {\n",
       "        vertical-align: top;\n",
       "    }\n",
       "\n",
       "    .dataframe thead th {\n",
       "        text-align: right;\n",
       "    }\n",
       "</style>\n",
       "<table border=\"1\" class=\"dataframe\">\n",
       "  <thead>\n",
       "    <tr style=\"text-align: right;\">\n",
       "      <th></th>\n",
       "      <th>City</th>\n",
       "      <th>TotalProducts</th>\n",
       "    </tr>\n",
       "  </thead>\n",
       "  <tbody>\n",
       "    <tr>\n",
       "      <th>0</th>\n",
       "      <td>San Francisco</td>\n",
       "      <td>50156</td>\n",
       "    </tr>\n",
       "    <tr>\n",
       "      <th>1</th>\n",
       "      <td>Los Angeles</td>\n",
       "      <td>33246</td>\n",
       "    </tr>\n",
       "    <tr>\n",
       "      <th>2</th>\n",
       "      <td>New York City</td>\n",
       "      <td>27887</td>\n",
       "    </tr>\n",
       "    <tr>\n",
       "      <th>3</th>\n",
       "      <td>Boston</td>\n",
       "      <td>22490</td>\n",
       "    </tr>\n",
       "    <tr>\n",
       "      <th>4</th>\n",
       "      <td>Dallas</td>\n",
       "      <td>16705</td>\n",
       "    </tr>\n",
       "    <tr>\n",
       "      <th>5</th>\n",
       "      <td>Atlanta</td>\n",
       "      <td>16584</td>\n",
       "    </tr>\n",
       "    <tr>\n",
       "      <th>6</th>\n",
       "      <td>Seattle</td>\n",
       "      <td>16533</td>\n",
       "    </tr>\n",
       "    <tr>\n",
       "      <th>7</th>\n",
       "      <td>Portland</td>\n",
       "      <td>14035</td>\n",
       "    </tr>\n",
       "    <tr>\n",
       "      <th>8</th>\n",
       "      <td>Austin</td>\n",
       "      <td>11135</td>\n",
       "    </tr>\n",
       "  </tbody>\n",
       "</table>\n",
       "</div>"
      ],
      "text/plain": [
       "             City  TotalProducts\n",
       "0   San Francisco          50156\n",
       "1     Los Angeles          33246\n",
       "2   New York City          27887\n",
       "3          Boston          22490\n",
       "4          Dallas          16705\n",
       "5         Atlanta          16584\n",
       "6         Seattle          16533\n",
       "7        Portland          14035\n",
       "8          Austin          11135"
      ]
     },
     "execution_count": 59,
     "metadata": {},
     "output_type": "execute_result"
    }
   ],
   "source": [
    "pd_sales_q2 = sales_q2_df.toPandas()\n",
    "pd_sales_q2"
   ]
  },
  {
   "cell_type": "code",
   "execution_count": 60,
   "id": "44304867-6bf3-4ea3-be38-28c283473eb9",
   "metadata": {},
   "outputs": [
    {
     "data": {
      "image/png": "[encoded data removed]",
      "text/plain": [
       "<Figure size 720x432 with 1 Axes>"
      ]
     },
     "metadata": {},
     "output_type": "display_data"
    }
   ],
   "source": [
    "plt.figure(figsize=(10,6))\n",
    "plt.ticklabel_format(useOffset=False, style='plain')\n",
    "sns.set_theme(style=\"darkgrid\")\n",
    "sns.barplot(x=\"TotalProducts\", y=\"City\", data=pd_sales_q2).set_title(\"Total Products sold per City\")\n",
    "plt.xlabel(\"Total Products\")\n",
    "plt.show()"
   ]
  },
  {
   "cell_type": "markdown",
   "id": "e14330e1-0235-46e7-ac67-fb77151d8905",
   "metadata": {},
   "source": [
    "### What time should we display advertisements to maximize the selling of products?"
   ]
  },
  {
   "cell_type": "code",
   "execution_count": 61,
   "id": "16e1b69a-d2de-4c18-a32c-c667387c3faf",
   "metadata": {},
   "outputs": [],
   "source": [
    "from pyspark.sql.functions import count, date_format"
   ]
  },
  {
   "cell_type": "code",
   "execution_count": 62,
   "id": "bc9b5cc7-bbc8-4aba-b26d-6869d08cb3d9",
   "metadata": {},
   "outputs": [
    {
     "name": "stdout",
     "output_type": "stream",
     "text": [
      "+-------+--------------------------+--------+------+-------------------+---------------------------------------+--------------+-----+-----------+\n",
      "|OrderID|Product                   |Quantity|Price |OrderDate          |StoreAddress                           |City          |State|ReportMonth|\n",
      "+-------+--------------------------+--------+------+-------------------+---------------------------------------+--------------+-----+-----------+\n",
      "|295778 |AA Batteries (4-pack)     |1       |3.84  |2019-12-08 21:09:00|820 Adams St, San Francisco, CA 94016  | San Francisco|CA   |12         |\n",
      "|296047 |AAA Batteries (4-pack)    |2       |2.99  |2019-12-02 18:09:00|433 4th St, Los Angeles, CA 90001      | Los Angeles  |CA   |12         |\n",
      "|296233 |AA Batteries (4-pack)     |1       |3.84  |2019-12-05 15:49:00|444 8th St, Los Angeles, CA 90001      | Los Angeles  |CA   |12         |\n",
      "|296603 |AAA Batteries (4-pack)    |1       |2.99  |2019-12-02 20:21:00|665 10th St, San Francisco, CA 94016   | San Francisco|CA   |12         |\n",
      "|296639 |27in FHD Monitor          |1       |149.99|2019-12-25 11:35:00|860 7th St, New York City, NY 10001    | New York City|NY   |12         |\n",
      "|296749 |34in Ultrawide Monitor    |1       |379.99|2019-12-05 21:21:00|570 Adams St, Seattle, WA 98101        | Seattle      |WA   |12         |\n",
      "|296810 |Wired Headphones          |1       |11.99 |2019-12-10 17:31:00|517 Park St, Boston, MA 02215          | Boston       |MA   |12         |\n",
      "|297143 |Apple Airpods Headphones  |1       |150.0 |2019-12-05 08:34:00|625 Lincoln St, San Francisco, CA 94016| San Francisco|CA   |12         |\n",
      "|297288 |AA Batteries (4-pack)     |2       |3.84  |2019-12-31 23:16:00|914 Madison St, San Francisco, CA 94016| San Francisco|CA   |12         |\n",
      "|297311 |Bose SoundSport Headphones|1       |99.99 |2019-12-07 07:30:00|858 Willow St, Los Angeles, CA 90001   | Los Angeles  |CA   |12         |\n",
      "+-------+--------------------------+--------+------+-------------------+---------------------------------------+--------------+-----+-----------+\n",
      "only showing top 10 rows\n",
      "\n"
     ]
    }
   ],
   "source": [
    "sales2019_df.show(10,False)"
   ]
  },
  {
   "cell_type": "code",
   "execution_count": 63,
   "id": "538b8020-65cd-4aad-8231-c89d94364244",
   "metadata": {},
   "outputs": [
    {
     "name": "stdout",
     "output_type": "stream",
     "text": [
      "+-------+-----+\n",
      "|OrderID|count|\n",
      "+-------+-----+\n",
      "| 304276|    2|\n",
      "| 300601|    2|\n",
      "| 310188|    2|\n",
      "| 261569|    2|\n",
      "| 188122|    2|\n",
      "| 277349|    2|\n",
      "| 269251|    2|\n",
      "| 276515|    2|\n",
      "| 265863|    2|\n",
      "| 187647|    2|\n",
      "+-------+-----+\n",
      "only showing top 10 rows\n",
      "\n"
     ]
    }
   ],
   "source": [
    "sales2019_df.groupBy(\"OrderID\").agg(count(\"OrderID\").alias(\"count\")).where(col(\"count\") > 1).show(10)"
   ]
  },
  {
   "cell_type": "code",
   "execution_count": 64,
   "id": "edd286b6-22b0-450c-ac89-135ec793703f",
   "metadata": {},
   "outputs": [
    {
     "name": "stdout",
     "output_type": "stream",
     "text": [
      "+-------+---------------+--------+------+-------------------+-----------------------------------+--------------+-----+-----------+\n",
      "|OrderID|Product        |Quantity|Price |OrderDate          |StoreAddress                       |City          |State|ReportMonth|\n",
      "+-------+---------------+--------+------+-------------------+-----------------------------------+--------------+-----+-----------+\n",
      "|304276 |ThinkPad Laptop|1       |999.99|2019-12-15 06:07:00|358 5th St, New York City, NY 10001| New York City|NY   |12         |\n",
      "|304276 |iPhone         |1       |700.0 |2019-12-15 06:07:00|358 5th St, New York City, NY 10001| New York City|NY   |12         |\n",
      "+-------+---------------+--------+------+-------------------+-----------------------------------+--------------+-----+-----------+\n",
      "\n"
     ]
    }
   ],
   "source": [
    "sales2019_df.filter(col(\"OrderID\") ==  304276).show(truncate=False)"
   ]
  },
  {
   "cell_type": "code",
   "execution_count": 65,
   "id": "5ad59387-f731-4d1f-af70-2feda59eb94c",
   "metadata": {},
   "outputs": [],
   "source": [
    "sales_q3_df = (sales2019_df.select(\"OrderID\", date_format(\"OrderDate\", \"HH\").cast(\"int\").alias(\"Hour\"))\n",
    "              .distinct()\n",
    "              .groupBy(\"Hour\")\n",
    "              .agg(count(\"Hour\").alias(\"TotalOrders\"))\n",
    "              .orderBy(\"TotalOrders\", ascending=False))"
   ]
  },
  {
   "cell_type": "code",
   "execution_count": 66,
   "id": "e7599635-5639-4d59-9ceb-01ca10324252",
   "metadata": {},
   "outputs": [
    {
     "name": "stdout",
     "output_type": "stream",
     "text": [
      "+----+-----------+\n",
      "|Hour|TotalOrders|\n",
      "+----+-----------+\n",
      "|  19|      12377|\n",
      "|  12|      12082|\n",
      "|  11|      11882|\n",
      "|  20|      11763|\n",
      "|  18|      11761|\n",
      "+----+-----------+\n",
      "only showing top 5 rows\n",
      "\n"
     ]
    }
   ],
   "source": [
    "sales_q3_df.show(5)"
   ]
  },
  {
   "cell_type": "code",
   "execution_count": 67,
   "id": "0b6d7884-4bd4-4d73-9de8-a3ba0d2a50a9",
   "metadata": {},
   "outputs": [],
   "source": [
    "pd_sales_q3 = sales_q3_df.orderBy(\"Hour\").toPandas()"
   ]
  },
  {
   "cell_type": "code",
   "execution_count": 68,
   "id": "c59d75ae-5391-4efa-ab37-0ac9a43b7149",
   "metadata": {},
   "outputs": [
    {
     "data": {
      "image/png": "[encoded data removed]",
      "text/plain": [
       "<Figure size 720x432 with 1 Axes>"
      ]
     },
     "metadata": {},
     "output_type": "display_data"
    }
   ],
   "source": [
    "plt.figure(figsize=(10,6))\n",
    "plt.ticklabel_format(useOffset=False, style='plain')\n",
    "sns.set_theme(style=\"darkgrid\")\n",
    "sns.lineplot(x=\"Hour\", y=\"TotalOrders\", data=pd_sales_q3)\n",
    "plt.xlabel(\"Total Orders\")\n",
    "plt.show()"
   ]
  },
  {
   "cell_type": "markdown",
   "id": "53e71218-c96f-4e8d-9702-bcbd813aa909",
   "metadata": {},
   "source": [
    "### What products are most often sold together in the state of NY?"
   ]
  },
  {
   "cell_type": "code",
   "execution_count": 69,
   "id": "a26f2318-c1be-412a-8aff-9ba6b91c9185",
   "metadata": {},
   "outputs": [],
   "source": [
    "from pyspark.sql.functions import collect_list, size"
   ]
  },
  {
   "cell_type": "code",
   "execution_count": 70,
   "id": "0dde6a1c-a916-49bf-b1b3-52897b899f7a",
   "metadata": {},
   "outputs": [
    {
     "name": "stdout",
     "output_type": "stream",
     "text": [
      "+-------+--------------------+--------+------+-------------------+--------------------+--------------+-----+-----------+\n",
      "|OrderID|             Product|Quantity| Price|          OrderDate|        StoreAddress|          City|State|ReportMonth|\n",
      "+-------+--------------------+--------+------+-------------------+--------------------+--------------+-----+-----------+\n",
      "| 295778|AA Batteries (4-p...|       1|  3.84|2019-12-08 21:09:00|820 Adams St, San...| San Francisco|   CA|         12|\n",
      "| 296047|AAA Batteries (4-...|       2|  2.99|2019-12-02 18:09:00|433 4th St, Los A...|   Los Angeles|   CA|         12|\n",
      "| 296233|AA Batteries (4-p...|       1|  3.84|2019-12-05 15:49:00|444 8th St, Los A...|   Los Angeles|   CA|         12|\n",
      "| 296603|AAA Batteries (4-...|       1|  2.99|2019-12-02 20:21:00|665 10th St, San ...| San Francisco|   CA|         12|\n",
      "| 296639|    27in FHD Monitor|       1|149.99|2019-12-25 11:35:00|860 7th St, New Y...| New York City|   NY|         12|\n",
      "| 296749|34in Ultrawide Mo...|       1|379.99|2019-12-05 21:21:00|570 Adams St, Sea...|       Seattle|   WA|         12|\n",
      "| 296810|    Wired Headphones|       1| 11.99|2019-12-10 17:31:00|517 Park St, Bost...|        Boston|   MA|         12|\n",
      "| 297143|Apple Airpods Hea...|       1| 150.0|2019-12-05 08:34:00|625 Lincoln St, S...| San Francisco|   CA|         12|\n",
      "| 297288|AA Batteries (4-p...|       2|  3.84|2019-12-31 23:16:00|914 Madison St, S...| San Francisco|   CA|         12|\n",
      "| 297311|Bose SoundSport H...|       1| 99.99|2019-12-07 07:30:00|858 Willow St, Lo...|   Los Angeles|   CA|         12|\n",
      "| 297531|              iPhone|       1| 700.0|2019-12-19 06:57:00|161 Walnut St, Bo...|        Boston|   MA|         12|\n",
      "| 297537|Apple Airpods Hea...|       1| 150.0|2019-12-23 19:24:00|61 Wilson St, Por...|      Portland|   OR|         12|\n",
      "| 297999|USB-C Charging Cable|       1| 11.95|2019-12-01 17:51:00|990 14th St, San ...| San Francisco|   CA|         12|\n",
      "| 298321|USB-C Charging Cable|       1| 11.95|2019-12-21 05:58:00|183 Spruce St, Ne...| New York City|   NY|         12|\n",
      "| 298578|AA Batteries (4-p...|       2|  3.84|2019-12-18 18:58:00|348 Hill St, New ...| New York City|   NY|         12|\n",
      "| 298774|AAA Batteries (4-...|       1|  2.99|2019-12-13 16:21:00|235 11th St, Bost...|        Boston|   MA|         12|\n",
      "| 298853|       Flatscreen TV|       1| 300.0|2019-12-15 07:27:00|541 Washington St...|   Los Angeles|   CA|         12|\n",
      "| 298971|USB-C Charging Cable|       1| 11.95|2019-12-27 08:34:00|565 Cherry St, Ne...| New York City|   NY|         12|\n",
      "| 299990|       Flatscreen TV|       1| 300.0|2019-12-04 15:52:00|785 Church St, Da...|        Dallas|   TX|         12|\n",
      "| 300048|  Macbook Pro Laptop|       1|1700.0|2019-12-04 16:17:00|450 Jackson St, N...| New York City|   NY|         12|\n",
      "+-------+--------------------+--------+------+-------------------+--------------------+--------------+-----+-----------+\n",
      "only showing top 20 rows\n",
      "\n"
     ]
    }
   ],
   "source": [
    "sales2019_df.show()"
   ]
  },
  {
   "cell_type": "code",
   "execution_count": 72,
   "id": "ece09f36-dedd-482b-9532-b17ee99407e6",
   "metadata": {},
   "outputs": [],
   "source": [
    "sales_q4_df = (sales2019_df.where(col(\"State\") == \"NY\" )\n",
    "            .orderBy(\"OrderID\",\"Product\")\n",
    "            .groupBy(\"OrderID\",\"State\")\n",
    "            .agg(collect_list(\"Product\").alias(\"ProductList\")))"
   ]
  },
  {
   "cell_type": "code",
   "execution_count": 74,
   "id": "6a2b9c25-af09-4682-8530-b484c9b94d89",
   "metadata": {},
   "outputs": [
    {
     "name": "stdout",
     "output_type": "stream",
     "text": [
      "+-------+-----+------------------------------------------------+\n",
      "|OrderID|State|ProductList                                     |\n",
      "+-------+-----+------------------------------------------------+\n",
      "|141851 |NY   |[27in FHD Monitor]                              |\n",
      "|142149 |NY   |[AA Batteries (4-pack)]                         |\n",
      "|142787 |NY   |[Lightning Charging Cable]                      |\n",
      "|143020 |NY   |[ThinkPad Laptop]                               |\n",
      "|143862 |NY   |[Apple Airpods Headphones]                      |\n",
      "|144151 |NY   |[LG Dryer]                                      |\n",
      "|144851 |NY   |[Apple Airpods Headphones, USB-C Charging Cable]|\n",
      "|146589 |NY   |[Wired Headphones]                              |\n",
      "|147784 |NY   |[AAA Batteries (4-pack)]                        |\n",
      "|148099 |NY   |[27in 4K Gaming Monitor]                        |\n",
      "+-------+-----+------------------------------------------------+\n",
      "only showing top 10 rows\n",
      "\n"
     ]
    }
   ],
   "source": [
    "sales_q4_df.show(10,False)"
   ]
  },
  {
   "cell_type": "code",
   "execution_count": 75,
   "id": "a1852e69-7a03-487f-bd00-1e82a6590cde",
   "metadata": {},
   "outputs": [
    {
     "name": "stdout",
     "output_type": "stream",
     "text": [
      "+-------+-----+----------------------------------------+---------------+\n",
      "|OrderID|State|ProductList                             |ProductListSize|\n",
      "+-------+-----+----------------------------------------+---------------+\n",
      "|253929 |NY   |[20in Monitor, 27in 4K Gaming Monitor]  |2              |\n",
      "|197004 |NY   |[20in Monitor, AA Batteries (4-pack)]   |2              |\n",
      "|248053 |NY   |[20in Monitor, AA Batteries (4-pack)]   |2              |\n",
      "|158102 |NY   |[20in Monitor, AA Batteries (4-pack)]   |2              |\n",
      "|266247 |NY   |[20in Monitor, AA Batteries (4-pack)]   |2              |\n",
      "|245465 |NY   |[20in Monitor, AAA Batteries (4-pack)]  |2              |\n",
      "|194762 |NY   |[20in Monitor, AAA Batteries (4-pack)]  |2              |\n",
      "|176251 |NY   |[20in Monitor, AAA Batteries (4-pack)]  |2              |\n",
      "|204645 |NY   |[20in Monitor, Apple Airpods Headphones]|2              |\n",
      "|295039 |NY   |[20in Monitor, Apple Airpods Headphones]|2              |\n",
      "+-------+-----+----------------------------------------+---------------+\n",
      "only showing top 10 rows\n",
      "\n"
     ]
    }
   ],
   "source": [
    "sales_q4_df = (sales_q4_df.withColumn(\"ProductListSize\", size(\"ProductList\")))\n",
    "sales_q4_df.filter(col(\"ProductListSize\") > 1).orderBy(\"ProductList\").show(10,False)"
   ]
  },
  {
   "cell_type": "code",
   "execution_count": 77,
   "id": "217af0fe-fef8-4487-acf3-6b4410ad0037",
   "metadata": {},
   "outputs": [
    {
     "name": "stdout",
     "output_type": "stream",
     "text": [
      "+--------------------------------------------------+-----+\n",
      "|ProductList                                       |count|\n",
      "+--------------------------------------------------+-----+\n",
      "|[Google Phone, USB-C Charging Cable]              |127  |\n",
      "|[Lightning Charging Cable, iPhone]                |126  |\n",
      "|[Google Phone, Wired Headphones]                  |53   |\n",
      "|[USB-C Charging Cable, Vareebadd Phone]           |50   |\n",
      "|[Wired Headphones, iPhone]                        |46   |\n",
      "|[Apple Airpods Headphones, iPhone]                |45   |\n",
      "|[Bose SoundSport Headphones, Google Phone]        |24   |\n",
      "|[Apple Airpods Headphones, Wired Headphones]      |19   |\n",
      "|[Vareebadd Phone, Wired Headphones]               |17   |\n",
      "|[AAA Batteries (4-pack), Lightning Charging Cable]|16   |\n",
      "+--------------------------------------------------+-----+\n",
      "only showing top 10 rows\n",
      "\n"
     ]
    }
   ],
   "source": [
    "(sales_q4_df.filter(col(\"ProductListSize\") > 1)\n",
    "    .groupBy(\"ProductList\")\n",
    "    .count()\n",
    "    .orderBy(\"count\", ascending=False)).show(10,False)"
   ]
  },
  {
   "cell_type": "code",
   "execution_count": null,
   "id": "25cd7f6e-81b5-48a2-aa98-9721c6bbce0c",
   "metadata": {},
   "outputs": [],
   "source": []
  }
 ],
 "metadata": {
  "kernelspec": {
   "display_name": "Python 3",
   "language": "python",
   "name": "python3"
  },
  "language_info": {
   "codemirror_mode": {
    "name": "ipython",
    "version": 3
   },
   "file_extension": ".py",
   "mimetype": "text/x-python",
   "name": "python",
   "nbconvert_exporter": "python",
   "pygments_lexer": "ipython3",
   "version": "3.8.5"
  }
 },
 "nbformat": 4,
 "nbformat_minor": 5
}
